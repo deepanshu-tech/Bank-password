{
 "cells": [
  {
   "cell_type": "code",
   "execution_count": 1,
   "metadata": {},
   "outputs": [
    {
     "name": "stdout",
     "output_type": "stream",
     "text": [
      "7\n"
     ]
    }
   ],
   "source": [
    "# a = [[7,8],[1,2]]\n",
    "# b =[]\n",
    "# for i in range(len(a)):\n",
    "#     temp = min(a[i])\n",
    "#     b=b+[temp]\n",
    "# print(max(b))"
   ]
  },
  {
   "cell_type": "code",
   "execution_count": 2,
   "metadata": {},
   "outputs": [
    {
     "name": "stdout",
     "output_type": "stream",
     "text": [
      "['AAAAACCCCC', 'CCCCCAAAAA', 'AAAAACCCCC', 'CCCCCAAAAA']\n"
     ]
    }
   ],
   "source": [
    "# a = \"AAAAACCCCCAAAAACCCCCCAAAAAGGGTTT\"\n",
    "# b=[]\n",
    "# for i in range(len(a)-9):\n",
    "#     s =a[i:i+10]\n",
    "#     if(a.count(s)>=2):\n",
    "#         b=b+[s]\n",
    "    \n",
    "    \n",
    "# print(b)"
   ]
  },
  {
   "cell_type": "code",
   "execution_count": 53,
   "metadata": {},
   "outputs": [
    {
     "name": "stdout",
     "output_type": "stream",
     "text": [
      "enter the string:RamSita\n",
      "['Ra', 'Si']\n"
     ]
    }
   ],
   "source": [
    "# S = input(\"enter the string:\")\n",
    "\n",
    "\n",
    "# j=0\n",
    "# l=[]\n",
    "# j1=0\n",
    "# for i in range(le):\n",
    "#     if(S[i].isupper()):\n",
    "#         j=i+1\n",
    "#         j1=i\n",
    "#         while(j<len(S)):\n",
    "            \n",
    "#             j=j+1\n",
    "            \n",
    "#             if(S[j].isupper):\n",
    "#                 break\n",
    "#         l.append(S[j1:j])\n",
    "           \n",
    "        \n",
    "    \n",
    "# print(l)  \n",
    "    "
   ]
  },
  {
   "cell_type": "code",
   "execution_count": 14,
   "metadata": {},
   "outputs": [
    {
     "name": "stdout",
     "output_type": "stream",
     "text": [
      "enter the string:FaraZ\n",
      "F\n",
      "Z\n",
      "[]\n"
     ]
    }
   ],
   "source": [
    "# S = input(\"enter the string:\")\n",
    "# l=[]\n",
    "# for i in range(len(S)):\n",
    "#     if(ord(S[i])>=65 and ord(S[i])<=90):\n",
    "#         temp =\"\"+S[i]\n",
    "#         while()\n",
    "#         print(temp)\n",
    "      \n",
    "    \n",
    "        \n",
    "        \n",
    "# print(l)     "
   ]
  },
  {
   "cell_type": "code",
   "execution_count": 7,
   "metadata": {},
   "outputs": [
    {
     "name": "stdout",
     "output_type": "stream",
     "text": [
      "Enter your name :faraz uddin\n",
      "Enter your DOB in dd/mm/yy format01-06-1999\n",
      "Enter 10 digit phone number9889595031\n",
      "988din1999\n"
     ]
    }
   ],
   "source": [
    "Name = input(\"Enter your name :\")\n",
    "DOB = input(\"Enter your DOB in dd/mm/yy format\")\n",
    "contact = input(\"Enter 10 digit phone number\")\n",
    "password = contact[0:3]+Name[len(Name)-3:]+DOB[len(DOB)-4:]\n",
    "print(password)"
   ]
  }
 ],
 "metadata": {
  "kernelspec": {
   "display_name": "Python 3",
   "language": "python",
   "name": "python3"
  },
  "language_info": {
   "codemirror_mode": {
    "name": "ipython",
    "version": 3
   },
   "file_extension": ".py",
   "mimetype": "text/x-python",
   "name": "python",
   "nbconvert_exporter": "python",
   "pygments_lexer": "ipython3",
   "version": "3.8.3"
  }
 },
 "nbformat": 4,
 "nbformat_minor": 4
}
